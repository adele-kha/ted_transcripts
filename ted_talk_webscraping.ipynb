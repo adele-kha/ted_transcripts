{
 "cells": [
  {
   "cell_type": "code",
   "execution_count": 43,
   "metadata": {},
   "outputs": [],
   "source": [
    "from bs4 import BeautifulSoup\n",
    "import requests\n",
    "import re"
   ]
  },
  {
   "cell_type": "code",
   "execution_count": 82,
   "metadata": {},
   "outputs": [],
   "source": [
    "url_all = 'https://www.ted.com/playlists/171/the_most_popular_talks_of_all'\n",
    "page = requests.get(url_all)    \n",
    "data = page.text\n",
    "soup = BeautifulSoup(data)"
   ]
  },
  {
   "cell_type": "code",
   "execution_count": 83,
   "metadata": {},
   "outputs": [],
   "source": [
    "list_of_all_links = []\n",
    "\n",
    "for i in soup.find_all('a', class_='group block'):\n",
    "    list_of_all_links.append(i.get('href'))"
   ]
  },
  {
   "cell_type": "code",
   "execution_count": 84,
   "metadata": {},
   "outputs": [],
   "source": [
    "def edit_links(link):\n",
    "    \"\"\"this function inserts the string \"transcript\"\n",
    "    at the first occurrence of the question mark\"\"\"\n",
    "    \n",
    "    string_to_insert = '/transcript'\n",
    "    insert_before_char = '?'\n",
    "    for i in range(len(link)):\n",
    "        if link[i] == insert_before_char:\n",
    "            new_link = link[:i] + string_to_insert + link[i:]\n",
    "            break\n",
    "    return new_link"
   ]
  },
  {
   "cell_type": "code",
   "execution_count": 85,
   "metadata": {},
   "outputs": [],
   "source": [
    "list_of_links_with_transcripts = []\n",
    "for i in list_of_all_links:\n",
    "    list_of_links_with_transcripts.append(edit_links(i))"
   ]
  },
  {
   "cell_type": "code",
   "execution_count": 86,
   "metadata": {},
   "outputs": [
    {
     "data": {
      "text/plain": [
       "['https://www.ted.com/talks/sir_ken_robinson_do_schools_kill_creativity/transcript?referrer=playlist-the_most_popular_talks_of_all',\n",
       " 'https://www.ted.com/talks/amy_cuddy_your_body_language_may_shape_who_you_are/transcript?referrer=playlist-the_most_popular_talks_of_all',\n",
       " 'https://www.ted.com/talks/simon_sinek_how_great_leaders_inspire_action/transcript?referrer=playlist-the_most_popular_talks_of_all',\n",
       " 'https://www.ted.com/talks/brene_brown_the_power_of_vulnerability/transcript?referrer=playlist-the_most_popular_talks_of_all',\n",
       " 'https://www.ted.com/talks/tim_urban_inside_the_mind_of_a_master_procrastinator/transcript?referrer=playlist-the_most_popular_talks_of_all',\n",
       " 'https://www.ted.com/talks/julian_treasure_how_to_speak_so_that_people_want_to_listen/transcript?referrer=playlist-the_most_popular_talks_of_all',\n",
       " 'https://www.ted.com/talks/bill_gates_the_next_outbreak_we_re_not_ready/transcript?referrer=playlist-the_most_popular_talks_of_all',\n",
       " 'https://www.ted.com/talks/cameron_russell_looks_aren_t_everything_believe_me_i_m_a_model/transcript?referrer=playlist-the_most_popular_talks_of_all',\n",
       " 'https://www.ted.com/talks/robert_waldinger_what_makes_a_good_life_lessons_from_the_longest_study_on_happiness/transcript?referrer=playlist-the_most_popular_talks_of_all',\n",
       " 'https://www.ted.com/talks/mary_roach_10_things_you_didn_t_know_about_orgasm/transcript?referrer=playlist-the_most_popular_talks_of_all',\n",
       " 'https://www.ted.com/talks/pamela_meyer_how_to_spot_a_liar/transcript?referrer=playlist-the_most_popular_talks_of_all']"
      ]
     },
     "execution_count": 86,
     "metadata": {},
     "output_type": "execute_result"
    }
   ],
   "source": [
    "list_of_links_with_transcripts"
   ]
  },
  {
   "cell_type": "code",
   "execution_count": 136,
   "metadata": {},
   "outputs": [],
   "source": [
    "for url in list_of_links_with_transcripts:\n",
    "    url = url\n",
    "    page = requests.get(url)\n",
    "    data = page.text\n",
    "    soup = BeautifulSoup(data, 'lxml')\n",
    "    #filename is the first name of the speaker scraped from the webpage\n",
    "    filename = soup.find('title').text.split(' ')[0]+'.txt'\n",
    "    with open(filename, \"w\", encoding = 'utf-8') as f:\n",
    "        for i in soup.findAll('div', {'class' : 'Grid__cell flx-s:1 p-r:4'}):\n",
    "            #cleaning strings\n",
    "            element = i.find('p').text.translate({ord(ch):' ' for ch in ['\\t','\\n']})\n",
    "            element = re.sub(' +',' ', element)\n",
    "            try:\n",
    "                f.write(element.strip())\n",
    "            except UnicodeEncodeError:\n",
    "                print(url)\n",
    "                f.write(element)\n",
    "\n",
    "#    myfile.close()\n"
   ]
  }
 ],
 "metadata": {
  "kernelspec": {
   "display_name": "Python 3",
   "language": "python",
   "name": "python3"
  },
  "language_info": {
   "codemirror_mode": {
    "name": "ipython",
    "version": 3
   },
   "file_extension": ".py",
   "mimetype": "text/x-python",
   "name": "python",
   "nbconvert_exporter": "python",
   "pygments_lexer": "ipython3",
   "version": "3.7.6"
  }
 },
 "nbformat": 4,
 "nbformat_minor": 4
}
